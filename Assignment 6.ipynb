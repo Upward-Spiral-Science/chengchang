{
 "cells": [
  {
   "cell_type": "markdown",
   "metadata": {},
   "source": [
    "# Testing Assumptions\n",
    "## 1. State Assumptions"
   ]
  },
  {
   "cell_type": "markdown",
   "metadata": {},
   "source": [
    "## 2. Check Assumptions"
   ]
  },
  {
   "cell_type": "code",
   "execution_count": 1,
   "metadata": {
    "collapsed": true
   },
   "outputs": [],
   "source": [
    "# Import packages\n",
    "%matplotlib inline\n",
    "import matplotlib.pyplot as plt\n",
    "import pandas as pd\n",
    "import numpy as np\n",
    "from scipy import stats\n",
    "from scipy.stats import norm\n",
    "import seaborn as sns\n",
    "\n",
    "from sklearn import cross_validation\n",
    "from sklearn.cross_validation import LeaveOneOut\n",
    "from sklearn.neighbors import KNeighborsClassifier\n",
    "from sklearn.ensemble import RandomForestClassifier\n",
    "from sklearn.svm import SVC\n",
    "from sklearn.discriminant_analysis import LinearDiscriminantAnalysis\n",
    "from sklearn.discriminant_analysis import QuadraticDiscriminantAnalysis\n",
    "\n",
    "np.random.seed(12345678)  # for reproducibility, set random seed\n",
    "\n",
    "# Read in data\n",
    "df = pd.read_csv('../output.csv')\n",
    "\n",
    "nvox = 64*64*48 # assume number of voxels per bin\n",
    "df['weighted'] = df['synapses']/df['unmasked']*nvox"
   ]
  },
  {
   "cell_type": "markdown",
   "metadata": {},
   "source": [
    "### a. Bin data from Assignment 4\n",
    "#### i. Independence assumption of unmasked vs. weighted data"
   ]
  },
  {
   "cell_type": "markdown",
   "metadata": {},
   "source": [
    "#### ii. Independence assumption of weighted data"
   ]
  },
  {
   "cell_type": "markdown",
   "metadata": {},
   "source": [
    "#### iii. Identically distributed assumption of weighted data"
   ]
  },
  {
   "cell_type": "markdown",
   "metadata": {},
   "source": [
    "### b. Grid data from Assignment 5"
   ]
  },
  {
   "cell_type": "code",
   "execution_count": 2,
   "metadata": {
    "collapsed": false
   },
   "outputs": [
    {
     "name": "stdout",
     "output_type": "stream",
     "text": [
      "We labeled 20203 bins as edges.\n",
      "       cx    cy   cz  unmasked  synapses    weighted\n",
      "4578  331  1369  277    106215       118  218.422483\n",
      "4589  331  1408  277    107686       120  219.090318\n",
      "4600  331  1447  277    109206       169  304.257568\n",
      "4611  331  1486  277    111126       174  307.846877\n",
      "4622  331  1525  277    112788       140  244.042983\n"
     ]
    }
   ],
   "source": [
    "xvals = df['cx'].unique()\n",
    "yvals = df['cy'].unique()\n",
    "zvals = df['cz'].unique()\n",
    "\n",
    "# Get rid of the blank edges, Z-layer by Z-layer.\n",
    "df['edge'] = 0\n",
    "\n",
    "for z in zvals:\n",
    "    this_z = df[df['cz']==z]\n",
    "    \n",
    "    # X direction\n",
    "    xhist, bin_edges = np.histogram(this_z['cx'], weights = this_z['unmasked']/(nvox*len(yvals)), bins=len(xvals))\n",
    "    \n",
    "    left = np.argmax(xhist>0.5)\n",
    "    right = len(xvals)-np.argmax(xhist[::-1]>0.5)\n",
    "    \n",
    "    df.loc[(df['cz']==z) & ((df['cx']<xvals[left]) | (df['cx']>=xvals[right])),'edge'] = 1\n",
    "    \n",
    "    # Y direction\n",
    "    yhist, bin_edges = np.histogram(this_z['cy'], weights = this_z['unmasked']/(nvox*len(xvals)), bins=len(yvals))\n",
    "    \n",
    "    top = np.argmax(yhist>0.5)\n",
    "    bottom = len(yvals)-np.argmax(yhist[::-1]>0.5)\n",
    "    \n",
    "    df.loc[(df['cz']==z) & ((df['cy']<yvals[top]) | (df['cy']>=yvals[bottom])),'edge'] = 1\n",
    "    \n",
    "print 'We labeled',np.sum(df['edge']==1),'bins as edges.'\n",
    "\n",
    "# Copy new dataset without edges\n",
    "df2 = df[df['edge']==0].copy()\n",
    "df2 = df2.drop('edge', axis=1)\n",
    "print df2.head()\n",
    "\n",
    "# Restoring random state to get the same grids\n",
    "import pickle\n",
    "with open('random_state.pickle') as f:\n",
    "    rnd_state = pickle.load(f)\n",
    "\n",
    "np.random.set_state(rnd_state)\n",
    "\n",
    "# Generating dataset of 5x5 grids\n",
    "grids = []\n",
    "for z in zvals:\n",
    "    \n",
    "    # new xvals and yvals vary by Z layer\n",
    "    nxvals = df2[df2['cz']==z]['cx'].unique()\n",
    "    nyvals = df2[df2['cz']==z]['cy'].unique()\n",
    "    \n",
    "    for i in range(100):\n",
    "        xi = np.random.randint(2,len(nxvals)-2)\n",
    "        yi = np.random.randint(2,len(nyvals)-2)\n",
    "        newgrid = df2[\n",
    "            (df2['cx']>=nxvals[xi-2]) & (df2['cx']<=nxvals[xi+2]) & \n",
    "            (df2['cy']>=nyvals[yi-2]) & (df2['cy']<=nyvals[yi+2]) &\n",
    "            (df2['cz'] == z)\n",
    "            ]\n",
    "        \n",
    "        grids.append(newgrid)\n",
    "        \n",
    "#         # plot examples for one Z layer\n",
    "#         if z==55 and i<3:\n",
    "#             exampleXY = pd.pivot_table(grids[i], index='cy', columns='cx', values='weighted', aggfunc=np.sum)\n",
    "#             plt.figure()\n",
    "#             sns.heatmap(exampleXY, cbar_kws={'label': 'Weighted number of synapses'});\n",
    "#             plt.title('Example X-Y grid');"
   ]
  },
  {
   "cell_type": "markdown",
   "metadata": {},
   "source": [
    "#### i. Independence assumption of grid means and X,Y position"
   ]
  },
  {
   "cell_type": "markdown",
   "metadata": {},
   "source": [
    "#### ii. Independence assumption of grid means"
   ]
  },
  {
   "cell_type": "markdown",
   "metadata": {},
   "source": [
    "#### iii. Identically distributed assumption of grid means"
   ]
  },
  {
   "cell_type": "markdown",
   "metadata": {},
   "source": [
    "#### iv. Class conditional difference assumption between low-density vs. high-density Z layers"
   ]
  },
  {
   "cell_type": "code",
   "execution_count": null,
   "metadata": {
    "collapsed": true
   },
   "outputs": [],
   "source": []
  }
 ],
 "metadata": {
  "kernelspec": {
   "display_name": "Python 2",
   "language": "python",
   "name": "python2"
  },
  "language_info": {
   "codemirror_mode": {
    "name": "ipython",
    "version": 2
   },
   "file_extension": ".py",
   "mimetype": "text/x-python",
   "name": "python",
   "nbconvert_exporter": "python",
   "pygments_lexer": "ipython2",
   "version": "2.7.11"
  }
 },
 "nbformat": 4,
 "nbformat_minor": 0
}
