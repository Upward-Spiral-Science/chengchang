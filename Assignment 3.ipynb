{
 "cells": [
  {
   "cell_type": "markdown",
   "metadata": {
    "collapsed": false
   },
   "source": [
    "# Answering questions"
   ]
  },
  {
   "cell_type": "code",
   "execution_count": 1,
   "metadata": {
    "collapsed": false
   },
   "outputs": [
    {
     "name": "stdout",
     "output_type": "stream",
     "text": [
      "Data types:\n",
      "cx          int64\n",
      "cy          int64\n",
      "cz          int64\n",
      "unmasked    int64\n",
      "synapses    int64\n",
      "dtype: object\n"
     ]
    }
   ],
   "source": [
    "# Import packages\n",
    "%matplotlib inline\n",
    "import matplotlib \n",
    "import matplotlib.pyplot as plt\n",
    "import pandas as pd\n",
    "import numpy as np\n",
    "\n",
    "# Read in data\n",
    "df = pd.read_csv('../output.csv')\n",
    "print \"Data types:\"\n",
    "print df.dtypes"
   ]
  },
  {
   "cell_type": "markdown",
   "metadata": {},
   "source": [
    "## Descriptive\n",
    "* How many Nan, Inf, or other \"bad\" data values are there?"
   ]
  },
  {
   "cell_type": "code",
   "execution_count": 2,
   "metadata": {
    "collapsed": false
   },
   "outputs": [
    {
     "name": "stdout",
     "output_type": "stream",
     "text": [
      "Number of nan values by column:\n",
      "cx          0\n",
      "cy          0\n",
      "cz          0\n",
      "unmasked    0\n",
      "synapses    0\n",
      "dtype: int64 \n",
      "\n",
      "Number of rows with nan values: 0 \n",
      "\n",
      "Number of inf values by column:\n",
      "cx          0\n",
      "cy          0\n",
      "cz          0\n",
      "unmasked    0\n",
      "synapses    0\n",
      "dtype: int64 \n",
      "\n",
      "Number of rows with inf values: 0 \n",
      "\n",
      "Number of negative values by column:\n",
      "cx          0\n",
      "cy          0\n",
      "cz          0\n",
      "unmasked    0\n",
      "synapses    0\n",
      "dtype: int64 \n",
      "\n",
      "Number of rows with negative values: 0 \n",
      "\n"
     ]
    }
   ],
   "source": [
    "isNan = df.isnull()\n",
    "isInf = np.isinf(df)\n",
    "isNeg = df < 0\n",
    "\n",
    "print \"Number of nan values by column:\"\n",
    "print isNan.sum(), \"\\n\"\n",
    "print \"Number of rows with nan values:\", isNan.sum(1).sum(), \"\\n\"\n",
    "\n",
    "print \"Number of inf values by column:\"\n",
    "print isInf.sum(), \"\\n\"\n",
    "print \"Number of rows with inf values:\", isInf.sum(1).sum(), \"\\n\"\n",
    "\n",
    "print \"Number of negative values by column:\"\n",
    "print isNeg.sum(), \"\\n\"\n",
    "print \"Number of rows with negative values:\", isNeg.sum(1).sum(), \"\\n\""
   ]
  },
  {
   "cell_type": "markdown",
   "metadata": {},
   "source": [
    "### Quantities\n",
    " * How many synapses total are there?"
   ]
  },
  {
   "cell_type": "code",
   "execution_count": 3,
   "metadata": {
    "collapsed": false
   },
   "outputs": [
    {
     "name": "stdout",
     "output_type": "stream",
     "text": [
      "There are 7704178 total synapses in the data.\n"
     ]
    }
   ],
   "source": [
    "nSyn = df['synapses'].sum()\n",
    "print \"There are\", nSyn, \"total synapses in the data.\""
   ]
  },
  {
   "cell_type": "markdown",
   "metadata": {},
   "source": [
    " * How many bins are there?"
   ]
  },
  {
   "cell_type": "code",
   "execution_count": 4,
   "metadata": {
    "collapsed": false
   },
   "outputs": [
    {
     "name": "stdout",
     "output_type": "stream",
     "text": [
      "There are 61776 total 3D bins.\n"
     ]
    }
   ],
   "source": [
    "nBins = df['synapses'].count()\n",
    "print \"There are\", nBins, \"total 3D bins.\""
   ]
  },
  {
   "cell_type": "markdown",
   "metadata": {},
   "source": [
    "### Statistics\n",
    " * What's the maximum number of synapses within a bin?"
   ]
  },
  {
   "cell_type": "code",
   "execution_count": 5,
   "metadata": {
    "collapsed": false
   },
   "outputs": [
    {
     "name": "stdout",
     "output_type": "stream",
     "text": [
      "The maximum number of synapses per bin is 507\n"
     ]
    }
   ],
   "source": [
    "print \"The maximum number of synapses per bin is\", df['synapses'].max()"
   ]
  },
  {
   "cell_type": "markdown",
   "metadata": {},
   "source": [
    " * What's the mean number of synapses within a bin?"
   ]
  },
  {
   "cell_type": "code",
   "execution_count": 6,
   "metadata": {
    "collapsed": false
   },
   "outputs": [
    {
     "name": "stdout",
     "output_type": "stream",
     "text": [
      "The average number of synapses per bin is 124.71\n"
     ]
    }
   ],
   "source": [
    "print \"The average number of synapses per bin is {:0.2f}\".format(float(nSyn)/nBins)"
   ]
  },
  {
   "cell_type": "markdown",
   "metadata": {},
   "source": [
    " * What's the median number of synapses per bin?"
   ]
  },
  {
   "cell_type": "code",
   "execution_count": 7,
   "metadata": {
    "collapsed": false
   },
   "outputs": [
    {
     "name": "stdout",
     "output_type": "stream",
     "text": [
      "The median number of synapses per bin is 144\n"
     ]
    }
   ],
   "source": [
    "print \"The median number of synapses per bin is {:0.0f}\".format(df['synapses'].median())"
   ]
  },
  {
   "cell_type": "markdown",
   "metadata": {},
   "source": [
    " * What's the standard deviation?"
   ]
  },
  {
   "cell_type": "code",
   "execution_count": 8,
   "metadata": {
    "collapsed": false
   },
   "outputs": [
    {
     "name": "stdout",
     "output_type": "stream",
     "text": [
      "The standard deviation of the number of synapses per bin is 91.998\n"
     ]
    }
   ],
   "source": [
    "print \"The standard deviation of the number of synapses per bin is {:0.3f}\".format(df['synapses'].std())"
   ]
  },
  {
   "cell_type": "markdown",
   "metadata": {},
   "source": [
    "* What is the resolution of the scanned volume?"
   ]
  },
  {
   "cell_type": "code",
   "execution_count": 9,
   "metadata": {
    "collapsed": false
   },
   "outputs": [
    {
     "name": "stdout",
     "output_type": "stream",
     "text": [
      "The resolution of the scanned volume is 3.9 x 3.9 x 5.55 um^3\n"
     ]
    }
   ],
   "source": [
    "# Calculate resolution\n",
    "temp = df.max() - df.min()\n",
    "n = [df.groupby(d).ngroups for d in ['cx','cy','cz']]\n",
    "res = [temp[i]/(n[i] - 1) for i in range(3)]\n",
    "\n",
    "# guessing units based on Bock 2011 article\n",
    "print \"The resolution of the scanned volume is\", float(res[0])/10, \"x\", float(res[1])/10, \"x\", float(res[2])/20,\"um^3\""
   ]
  },
  {
   "cell_type": "markdown",
   "metadata": {},
   "source": [
    "* What is the size of the scanned volume?"
   ]
  },
  {
   "cell_type": "code",
   "execution_count": 10,
   "metadata": {
    "collapsed": false
   },
   "outputs": [
    {
     "name": "stdout",
     "output_type": "stream",
     "text": [
      "The dimensions of the scanned volume are 421.2 x 202.8 x 61.05 um^3\n"
     ]
    }
   ],
   "source": [
    "# Calculate dimensions\n",
    "dims = [temp[i]+res[i] for i in range(3)]\n",
    "\n",
    "# guessing units based on Bock 2011 article\n",
    "print \"The dimensions of the scanned volume are\", float(dims[0])/10, \"x\", float(dims[1])/10, \"x\", float(dims[2])/20,\"um^3\""
   ]
  },
  {
   "cell_type": "markdown",
   "metadata": {},
   "source": [
    "## Exploratory\n",
    "* What do the distributions of synapse locations look like in the x, y, z coordinates?"
   ]
  },
  {
   "cell_type": "code",
   "execution_count": 21,
   "metadata": {
    "collapsed": false
   },
   "outputs": [
    {
     "data": {
      "image/png": "[encoded data removed]",
      "text/plain": [
       "<matplotlib.figure.Figure at 0xd541e80>"
      ]
     },
     "metadata": {},
     "output_type": "display_data"
    },
    {
     "data": {
      "image/png": "[encoded data removed]",
      "text/plain": [
       "<matplotlib.figure.Figure at 0xad5d048>"
      ]
     },
     "metadata": {},
     "output_type": "display_data"
    },
    {
     "data": {
      "image/png": "[encoded data removed]",
      "text/plain": [
       "<matplotlib.figure.Figure at 0xdae6400>"
      ]
     },
     "metadata": {},
     "output_type": "display_data"
    }
   ],
   "source": [
    "fig_x = plt.figure()\n",
    "ax = fig_x.add_subplot(111)\n",
    "ax.hist(df['cx'], bins = 10, range = (df['cx'].min(), df['cx'].max()))\n",
    "plt.title('Distribution of cx')\n",
    "plt.xlabel('cx value')\n",
    "plt.ylabel('Count')\n",
    "plt.show()\n",
    "\n",
    "fig_y = plt.figure()\n",
    "ay = fig_y.add_subplot(111)\n",
    "ay.hist(df['cy'], bins = 10, range = (df['cy'].min(), df['cy'].max()))\n",
    "plt.title('Distribution of cy')\n",
    "plt.xlabel('cy value')\n",
    "plt.ylabel('Count')\n",
    "plt.show()\n",
    "\n",
    "fig_z = plt.figure()\n",
    "az = fig_z.add_subplot(111)\n",
    "az.hist(df['cz'], bins = 10, range = (df['cz'].min(), df['cz'].max()))\n",
    "plt.title('Distribution of cz')\n",
    "plt.xlabel('cz value')\n",
    "plt.ylabel('Count')\n",
    "plt.show()\n"
   ]
  },
  {
   "cell_type": "markdown",
   "metadata": {},
   "source": [
    "* What does the distribution of # synapses per bin look like?"
   ]
  },
  {
   "cell_type": "code",
   "execution_count": 17,
   "metadata": {
    "collapsed": false
   },
   "outputs": [
    {
     "data": {
      "image/png": "[encoded data removed]",
      "text/plain": [
       "<matplotlib.figure.Figure at 0xa86b668>"
      ]
     },
     "metadata": {},
     "output_type": "display_data"
    }
   ],
   "source": [
    "fig_syn = plt.figure()\n",
    "asyn = fig_syn.add_subplot(111)\n",
    "asyn.hist(df['synapses'], bins = 20, range = (df['synapses'].min(), df['synapses'].max()))\n",
    "plt.title('Distribution of Synapses')\n",
    "plt.xlabel('Synapses value')\n",
    "plt.ylabel('Count')\n",
    "plt.show()"
   ]
  },
  {
   "cell_type": "markdown",
   "metadata": {},
   "source": [
    "* What do some representative slices look like?"
   ]
  },
  {
   "cell_type": "code",
   "execution_count": null,
   "metadata": {
    "collapsed": true
   },
   "outputs": [],
   "source": []
  },
  {
   "cell_type": "markdown",
   "metadata": {},
   "source": [
    "* What is the data looks like in boxplot? Are there any outliers?"
   ]
  },
  {
   "cell_type": "code",
   "execution_count": 56,
   "metadata": {
    "collapsed": false
   },
   "outputs": [
    {
     "data": {
      "image/png": "[encoded data removed]",
      "text/plain": [
       "<matplotlib.figure.Figure at 0xef5a860>"
      ]
     },
     "metadata": {},
     "output_type": "display_data"
    },
    {
     "data": {
      "image/png": "[encoded data removed]",
      "text/plain": [
       "<matplotlib.figure.Figure at 0xe99b860>"
      ]
     },
     "metadata": {},
     "output_type": "display_data"
    }
   ],
   "source": [
    "dfT = df.values.T.tolist()\n",
    "# Discard unmasked for the time being\n",
    "col = [dfT[i] for i in [0, 1, 2, 4]]\n",
    "\n",
    "fig = plt.figure()\n",
    "ax = fig.add_subplot(111)\n",
    "bp = ax.boxplot(col, 0, 'gD')\n",
    "plt.xticks([1, 2, 3, 4], ['cx', 'cy', 'cz', 'synapses'])\n",
    "plt.show()\n",
    "\n",
    "unmask = dfT[3]\n",
    "fig = plt.figure()\n",
    "ax = fig.add_subplot(111)\n",
    "bp = ax.boxplot(unmask, 0, 'gD')\n",
    "plt.xticks([1], ['unmasked'])\n",
    "plt.show()"
   ]
  }
 ],
 "metadata": {
  "kernelspec": {
   "display_name": "Python 2",
   "language": "python",
   "name": "python2"
  },
  "language_info": {
   "codemirror_mode": {
    "name": "ipython",
    "version": 2
   },
   "file_extension": ".py",
   "mimetype": "text/x-python",
   "name": "python",
   "nbconvert_exporter": "python",
   "pygments_lexer": "ipython2",
   "version": "2.7.11"
  }
 },
 "nbformat": 4,
 "nbformat_minor": 0
}
