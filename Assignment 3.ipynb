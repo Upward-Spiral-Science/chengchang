{
 "cells": [
  {
   "cell_type": "markdown",
   "metadata": {
    "collapsed": false
   },
   "source": [
    "# Answering questions"
   ]
  },
  {
   "cell_type": "code",
   "execution_count": 1,
   "metadata": {
    "collapsed": false
   },
   "outputs": [
    {
     "name": "stdout",
     "output_type": "stream",
     "text": [
      "There are 0 unreadable rows of data.\n"
     ]
    }
   ],
   "source": [
    "# Import packages\n",
    "import csv\n",
    "import numpy as np\n",
    "\n",
    "# Read in data\n",
    "with open('../output.csv', 'r') as csvfile:\n",
    "    lines = csv.reader(csvfile)\n",
    "    nl = 0\n",
    "    lines.next() # skip header\n",
    "    temp = []\n",
    "    nBadRows = 0\n",
    "    for row in lines:\n",
    "        try:\n",
    "            temp.append([float(x) for x in row])\n",
    "        except ValueError:\n",
    "            nBadRows = nBadRows+1 # unreadable\n",
    "\n",
    "print \"There are\", nBadRows, \"unreadable rows of data.\""
   ]
  },
  {
   "cell_type": "markdown",
   "metadata": {},
   "source": [
    "## Descriptive\n",
    "* How many Nan, Inf, or other \"bad\" data values are there?"
   ]
  },
  {
   "cell_type": "code",
   "execution_count": 2,
   "metadata": {
    "collapsed": false
   },
   "outputs": [
    {
     "name": "stdout",
     "output_type": "stream",
     "text": [
      "There are 0 bins with Inf or Nan values.\n",
      "There are 0 bins with an Inf, Nan, or negative number of synapses.\n"
     ]
    }
   ],
   "source": [
    "# Create arrays\n",
    "coord = np.array([x[0:3] for x in temp])\n",
    "syn = np.array([x[4] for x in temp])\n",
    "\n",
    "# Check for bad values\n",
    "nGoodCoord = np.sum(np.all(np.isfinite(coord), 1))\n",
    "nGoodSyn = np.sum(np.logical_and(np.isfinite(syn), syn>=0))\n",
    "\n",
    "print \"There are\", nGoodCoord-coord.shape[0], \"bins with Inf or Nan values.\"\n",
    "print \"There are\", nGoodSyn-syn.shape[0], \"bins with an Inf, Nan, or negative number of synapses.\""
   ]
  },
  {
   "cell_type": "markdown",
   "metadata": {},
   "source": [
    "### Quantities\n",
    " * How many synapses total are there?"
   ]
  },
  {
   "cell_type": "code",
   "execution_count": 3,
   "metadata": {
    "collapsed": false
   },
   "outputs": [
    {
     "name": "stdout",
     "output_type": "stream",
     "text": [
      "There are 7704178 total synapses in the data.\n"
     ]
    }
   ],
   "source": [
    "# Convert syn array to integers\n",
    "syn = syn.astype('int')\n",
    "\n",
    "nSyn = np.sum(syn)\n",
    "print \"There are\", nSyn, \"total synapses in the data.\""
   ]
  },
  {
   "cell_type": "markdown",
   "metadata": {},
   "source": [
    " * How many bins are there?"
   ]
  },
  {
   "cell_type": "code",
   "execution_count": 4,
   "metadata": {
    "collapsed": false
   },
   "outputs": [
    {
     "name": "stdout",
     "output_type": "stream",
     "text": [
      "There are 61776 total 3D bins.\n"
     ]
    }
   ],
   "source": [
    "nBins = np.shape(syn)[0]\n",
    "print \"There are\", nBins, \"total 3D bins.\""
   ]
  },
  {
   "cell_type": "markdown",
   "metadata": {},
   "source": [
    "### Statistics\n",
    " * What's the maximum number of synapses within a bin?"
   ]
  },
  {
   "cell_type": "code",
   "execution_count": 5,
   "metadata": {
    "collapsed": false
   },
   "outputs": [
    {
     "name": "stdout",
     "output_type": "stream",
     "text": [
      "The maximum number of synapses per bin is 507\n"
     ]
    }
   ],
   "source": [
    "print \"The maximum number of synapses per bin is {:0.0f}\".format(np.amax(syn))"
   ]
  },
  {
   "cell_type": "markdown",
   "metadata": {},
   "source": [
    " * What's the mean number of synapses within a bin?"
   ]
  },
  {
   "cell_type": "code",
   "execution_count": 6,
   "metadata": {
    "collapsed": false
   },
   "outputs": [
    {
     "name": "stdout",
     "output_type": "stream",
     "text": [
      "The average number of synapses per bin is 124.71\n"
     ]
    }
   ],
   "source": [
    "print \"The average number of synapses per bin is {:0.2f}\".format(float(nSyn)/nBins)"
   ]
  },
  {
   "cell_type": "markdown",
   "metadata": {},
   "source": [
    " * What's the median number of synapses per bin?"
   ]
  },
  {
   "cell_type": "code",
   "execution_count": 7,
   "metadata": {
    "collapsed": false
   },
   "outputs": [
    {
     "name": "stdout",
     "output_type": "stream",
     "text": [
      "The median number of synapses per bin is 144\n"
     ]
    }
   ],
   "source": [
    "print \"The median number of synapses per bin is {:0.0f}\".format(np.median(syn))"
   ]
  },
  {
   "cell_type": "markdown",
   "metadata": {},
   "source": [
    " * What's the standard deviation?"
   ]
  },
  {
   "cell_type": "code",
   "execution_count": 8,
   "metadata": {
    "collapsed": false
   },
   "outputs": [
    {
     "name": "stdout",
     "output_type": "stream",
     "text": [
      "The standard deviation of the number of synapses per bin is 91.998\n"
     ]
    }
   ],
   "source": [
    "print \"The standard deviation of the number of synapses per bin is {:0.3f}\".format(np.std(syn))"
   ]
  },
  {
   "cell_type": "markdown",
   "metadata": {},
   "source": [
    "* What is the resolution of the scanned volume?"
   ]
  },
  {
   "cell_type": "code",
   "execution_count": 15,
   "metadata": {
    "collapsed": false
   },
   "outputs": [
    {
     "name": "stdout",
     "output_type": "stream",
     "text": [
      "The resolution of the scanned volume is 3.9 x 3.9 x 5.55 um^3\n"
     ]
    }
   ],
   "source": [
    "# Calculate resolution\n",
    "temp = np.ptp(coord, 0)\n",
    "res = [temp[i]/(np.unique(coord[:,i]).shape[0] - 1) for i in range(3)]\n",
    "# guessing units based on Bock 2011 article\n",
    "print \"The resolution of the scanned volume is\", res[0]/10, \"x\", res[1]/10, \"x\", res[2]/20,\"um^3\""
   ]
  },
  {
   "cell_type": "markdown",
   "metadata": {},
   "source": [
    "* What is the size of the scanned volume?"
   ]
  },
  {
   "cell_type": "code",
   "execution_count": 16,
   "metadata": {
    "collapsed": false
   },
   "outputs": [
    {
     "name": "stdout",
     "output_type": "stream",
     "text": [
      "The dimensions of the scanned volume are 421.2 x 202.8 x 61.05 um^3\n"
     ]
    }
   ],
   "source": [
    "# Calculate dimensions\n",
    "dims = [temp[i]+res[i] for i in range(3)]\n",
    "# guessing units based on Bock 2011 article\n",
    "print \"The dimensions of the scanned volume are\", dims[0]/10, \"x\", dims[1]/10, \"x\", dims[2]/20,\"um^3\""
   ]
  },
  {
   "cell_type": "markdown",
   "metadata": {},
   "source": [
    "## Exploratory\n",
    "* What do the distributions of synapse locations look like in the x, y, z coordinates?"
   ]
  },
  {
   "cell_type": "code",
   "execution_count": null,
   "metadata": {
    "collapsed": true
   },
   "outputs": [],
   "source": []
  },
  {
   "cell_type": "markdown",
   "metadata": {},
   "source": [
    "* What do some representative slices look like?"
   ]
  },
  {
   "cell_type": "code",
   "execution_count": null,
   "metadata": {
    "collapsed": true
   },
   "outputs": [],
   "source": []
  }
 ],
 "metadata": {
  "kernelspec": {
   "display_name": "Python 2",
   "language": "python",
   "name": "python2"
  },
  "language_info": {
   "codemirror_mode": {
    "name": "ipython",
    "version": 2
   },
   "file_extension": ".py",
   "mimetype": "text/x-python",
   "name": "python",
   "nbconvert_exporter": "python",
   "pygments_lexer": "ipython2",
   "version": "2.7.11"
  }
 },
 "nbformat": 4,
 "nbformat_minor": 0
}
