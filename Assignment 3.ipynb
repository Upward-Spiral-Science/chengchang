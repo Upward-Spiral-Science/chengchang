{
 "cells": [
  {
   "cell_type": "markdown",
   "metadata": {
    "collapsed": false
   },
   "source": [
    "# Answering questions"
   ]
  },
  {
   "cell_type": "code",
   "execution_count": 1,
   "metadata": {
    "collapsed": false
   },
   "outputs": [
    {
     "name": "stdout",
     "output_type": "stream",
     "text": [
      "Data types:\n",
      "cx          int64\n",
      "cy          int64\n",
      "cz          int64\n",
      "unmasked    int64\n",
      "synapses    int64\n",
      "dtype: object\n"
     ]
    }
   ],
   "source": [
    "# Import packages\n",
    "import pandas as pd\n",
    "import numpy as np\n",
    "\n",
    "# Read in data\n",
    "df = pd.read_csv('../output.csv')\n",
    "print \"Data types:\"\n",
    "print df.dtypes"
   ]
  },
  {
   "cell_type": "markdown",
   "metadata": {},
   "source": [
    "## Descriptive\n",
    "* How many Nan, Inf, or other \"bad\" data values are there?"
   ]
  },
  {
   "cell_type": "code",
   "execution_count": 2,
   "metadata": {
    "collapsed": false
   },
   "outputs": [
    {
     "name": "stdout",
     "output_type": "stream",
     "text": [
      "Number of nan values by column:\n",
      "cx          0\n",
      "cy          0\n",
      "cz          0\n",
      "unmasked    0\n",
      "synapses    0\n",
      "dtype: int64 \n",
      "\n",
      "Number of rows with nan values: 0 \n",
      "\n",
      "Number of inf values by column:\n",
      "cx          0\n",
      "cy          0\n",
      "cz          0\n",
      "unmasked    0\n",
      "synapses    0\n",
      "dtype: int64 \n",
      "\n",
      "Number of rows with inf values: 0 \n",
      "\n",
      "Number of negative values by column:\n",
      "cx          0\n",
      "cy          0\n",
      "cz          0\n",
      "unmasked    0\n",
      "synapses    0\n",
      "dtype: int64 \n",
      "\n",
      "Number of rows with negative values: 0 \n",
      "\n"
     ]
    }
   ],
   "source": [
    "isNan = df.isnull()\n",
    "isInf = np.isinf(df)\n",
    "isNeg = df < 0\n",
    "\n",
    "print \"Number of nan values by column:\"\n",
    "print isNan.sum(), \"\\n\"\n",
    "print \"Number of rows with nan values:\", isNan.sum(1).sum(), \"\\n\"\n",
    "\n",
    "print \"Number of inf values by column:\"\n",
    "print isInf.sum(), \"\\n\"\n",
    "print \"Number of rows with inf values:\", isInf.sum(1).sum(), \"\\n\"\n",
    "\n",
    "print \"Number of negative values by column:\"\n",
    "print isNeg.sum(), \"\\n\"\n",
    "print \"Number of rows with negative values:\", isNeg.sum(1).sum(), \"\\n\""
   ]
  },
  {
   "cell_type": "markdown",
   "metadata": {},
   "source": [
    "### Quantities\n",
    " * How many synapses total are there?"
   ]
  },
  {
   "cell_type": "code",
   "execution_count": 3,
   "metadata": {
    "collapsed": false
   },
   "outputs": [
    {
     "name": "stdout",
     "output_type": "stream",
     "text": [
      "There are 7704178 total synapses in the data.\n"
     ]
    }
   ],
   "source": [
    "nSyn = df['synapses'].sum()\n",
    "print \"There are\", nSyn, \"total synapses in the data.\""
   ]
  },
  {
   "cell_type": "markdown",
   "metadata": {},
   "source": [
    " * How many bins are there?"
   ]
  },
  {
   "cell_type": "code",
   "execution_count": 4,
   "metadata": {
    "collapsed": false
   },
   "outputs": [
    {
     "name": "stdout",
     "output_type": "stream",
     "text": [
      "There are 61776 total 3D bins.\n"
     ]
    }
   ],
   "source": [
    "nBins = df['synapses'].count()\n",
    "print \"There are\", nBins, \"total 3D bins.\""
   ]
  },
  {
   "cell_type": "markdown",
   "metadata": {},
   "source": [
    "### Statistics\n",
    " * What's the maximum number of synapses within a bin?"
   ]
  },
  {
   "cell_type": "code",
   "execution_count": 5,
   "metadata": {
    "collapsed": false
   },
   "outputs": [
    {
     "name": "stdout",
     "output_type": "stream",
     "text": [
      "The maximum number of synapses per bin is 507\n"
     ]
    }
   ],
   "source": [
    "print \"The maximum number of synapses per bin is\", df['synapses'].max()"
   ]
  },
  {
   "cell_type": "markdown",
   "metadata": {},
   "source": [
    " * What's the mean number of synapses within a bin?"
   ]
  },
  {
   "cell_type": "code",
   "execution_count": 6,
   "metadata": {
    "collapsed": false
   },
   "outputs": [
    {
     "name": "stdout",
     "output_type": "stream",
     "text": [
      "The average number of synapses per bin is 124.71\n"
     ]
    }
   ],
   "source": [
    "print \"The average number of synapses per bin is {:0.2f}\".format(float(nSyn)/nBins)"
   ]
  },
  {
   "cell_type": "markdown",
   "metadata": {},
   "source": [
    " * What's the median number of synapses per bin?"
   ]
  },
  {
   "cell_type": "code",
   "execution_count": 7,
   "metadata": {
    "collapsed": false
   },
   "outputs": [
    {
     "name": "stdout",
     "output_type": "stream",
     "text": [
      "The median number of synapses per bin is 144\n"
     ]
    }
   ],
   "source": [
    "print \"The median number of synapses per bin is {:0.0f}\".format(df['synapses'].median())"
   ]
  },
  {
   "cell_type": "markdown",
   "metadata": {},
   "source": [
    " * What's the standard deviation?"
   ]
  },
  {
   "cell_type": "code",
   "execution_count": 8,
   "metadata": {
    "collapsed": false
   },
   "outputs": [
    {
     "name": "stdout",
     "output_type": "stream",
     "text": [
      "The standard deviation of the number of synapses per bin is 91.998\n"
     ]
    }
   ],
   "source": [
    "print \"The standard deviation of the number of synapses per bin is {:0.3f}\".format(df['synapses'].std())"
   ]
  },
  {
   "cell_type": "markdown",
   "metadata": {},
   "source": [
    "* What is the resolution of the scanned volume?"
   ]
  },
  {
   "cell_type": "code",
   "execution_count": 9,
   "metadata": {
    "collapsed": false
   },
   "outputs": [
    {
     "name": "stdout",
     "output_type": "stream",
     "text": [
      "The resolution of the scanned volume is 3.9 x 3.9 x 5.55 um^3\n"
     ]
    }
   ],
   "source": [
    "# Calculate resolution\n",
    "temp = df.max() - df.min()\n",
    "n = [df.groupby(d).ngroups for d in ['cx','cy','cz']]\n",
    "res = [temp[i]/(n[i] - 1) for i in range(3)]\n",
    "\n",
    "# guessing units based on Bock 2011 article\n",
    "print \"The resolution of the scanned volume is\", float(res[0])/10, \"x\", float(res[1])/10, \"x\", float(res[2])/20,\"um^3\""
   ]
  },
  {
   "cell_type": "markdown",
   "metadata": {},
   "source": [
    "* What is the size of the scanned volume?"
   ]
  },
  {
   "cell_type": "code",
   "execution_count": 10,
   "metadata": {
    "collapsed": false
   },
   "outputs": [
    {
     "name": "stdout",
     "output_type": "stream",
     "text": [
      "The dimensions of the scanned volume are 421.2 x 202.8 x 61.05 um^3\n"
     ]
    }
   ],
   "source": [
    "# Calculate dimensions\n",
    "dims = [temp[i]+res[i] for i in range(3)]\n",
    "\n",
    "# guessing units based on Bock 2011 article\n",
    "print \"The dimensions of the scanned volume are\", float(dims[0])/10, \"x\", float(dims[1])/10, \"x\", float(dims[2])/20,\"um^3\""
   ]
  },
  {
   "cell_type": "markdown",
   "metadata": {},
   "source": [
    "## Exploratory\n",
    "* What do the distributions of synapse locations look like in the x, y, z coordinates?"
   ]
  },
  {
   "cell_type": "code",
   "execution_count": null,
   "metadata": {
    "collapsed": true
   },
   "outputs": [],
   "source": []
  },
  {
   "cell_type": "markdown",
   "metadata": {},
   "source": [
    "* What does the distribution of # synapses per bin look like?"
   ]
  },
  {
   "cell_type": "code",
   "execution_count": null,
   "metadata": {
    "collapsed": true
   },
   "outputs": [],
   "source": []
  },
  {
   "cell_type": "markdown",
   "metadata": {},
   "source": [
    "* What do some representative slices look like?"
   ]
  },
  {
   "cell_type": "code",
   "execution_count": null,
   "metadata": {
    "collapsed": true
   },
   "outputs": [],
   "source": []
  }
 ],
 "metadata": {
  "kernelspec": {
   "display_name": "Python 2",
   "language": "python",
   "name": "python2"
  },
  "language_info": {
   "codemirror_mode": {
    "name": "ipython",
    "version": 2
   },
   "file_extension": ".py",
   "mimetype": "text/x-python",
   "name": "python",
   "nbconvert_exporter": "python",
   "pygments_lexer": "ipython2",
   "version": "2.7.11"
  }
 },
 "nbformat": 4,
 "nbformat_minor": 0
}
