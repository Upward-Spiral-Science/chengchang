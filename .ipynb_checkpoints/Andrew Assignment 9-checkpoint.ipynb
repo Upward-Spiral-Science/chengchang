{
 "cells": [
  {
   "cell_type": "code",
   "execution_count": 6,
   "metadata": {
    "collapsed": false
   },
   "outputs": [],
   "source": [
    "import matplotlib.pyplot as plt\n",
    "import pandas as pd\n",
    "import numpy as np\n",
    "import seaborn as sns\n",
    "\n",
    "import sklearn.mixture\n",
    "import scipy.stats as ss\n",
    "import seaborn as sns\n",
    "\n",
    "np.random.seed(12345678)\n",
    "\n",
    "df = pd.read_csv('../output.csv')\n"
   ]
  },
  {
   "cell_type": "markdown",
   "metadata": {},
   "source": [
    "create weighted. Throw out bins with unmasked<=.5*nvox"
   ]
  },
  {
   "cell_type": "code",
   "execution_count": 7,
   "metadata": {
    "collapsed": true
   },
   "outputs": [],
   "source": [
    "nvox = 64*64*48\n",
    "df['weighted'] = df['synapses']/df['unmasked']*nvox\n",
    "\n",
    "dfthr = df[df['unmasked']>nvox*0.5] # Thresholded data frame"
   ]
  },
  {
   "cell_type": "markdown",
   "metadata": {},
   "source": [
    "### 1) 2D exploratory graphs with weighted data"
   ]
  },
  {
   "cell_type": "code",
   "execution_count": 8,
   "metadata": {
    "collapsed": true
   },
   "outputs": [],
   "source": [
    "sumXY = pd.pivot_table(df, index='cy', columns='cx', values='synapses', aggfunc=np.sum)\n",
    "sumXZ = pd.pivot_table(dfthr, index='cz', columns='cx', values='synapses', aggfunc=np.sum)\n",
    "sumYZ = pd.pivot_table(dfthr, index='cz', columns='cy', values='synapses', aggfunc=np.sum)\n",
    "\n",
    "plt.figure()\n",
    "sns.heatmap(sumXY, xticklabels=20, yticklabels=10, cbar_kws={'label': 'Synapses'});\n",
    "plt.title('Number of Synapses at X-Y coordinates');\n",
    "\n",
    "plt.figure()\n",
    "sns.heatmap(sumXZ, xticklabels=20, yticklabels=2, cbar_kws={'label': 'Synapses'});\n",
    "plt.title('Number of Synapses at X-Z coordinates');\n",
    "\n",
    "plt.figure()\n",
    "sns.heatmap(sumYZ, xticklabels=10, yticklabels=2, cbar_kws={'label': 'Synapses'});\n",
    "plt.title('Number of Synapses at Y-Z coordinates');"
   ]
  }
 ],
 "metadata": {
  "kernelspec": {
   "display_name": "Python 2",
   "language": "python",
   "name": "python2"
  },
  "language_info": {
   "codemirror_mode": {
    "name": "ipython",
    "version": 2
   },
   "file_extension": ".py",
   "mimetype": "text/x-python",
   "name": "python",
   "nbconvert_exporter": "python",
   "pygments_lexer": "ipython2",
   "version": "2.7.11"
  }
 },
 "nbformat": 4,
 "nbformat_minor": 0
}
