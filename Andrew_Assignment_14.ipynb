{
 "cells": [
  {
   "cell_type": "code",
   "execution_count": 2,
   "metadata": {
    "collapsed": false
   },
   "outputs": [],
   "source": [
    "# Import packages\n",
    "%matplotlib inline\n",
    "import matplotlib \n",
    "import matplotlib.pyplot as plt\n",
    "from matplotlib import cm as CM\n",
    "from matplotlib import mlab as ML\n",
    "import pandas as pd\n",
    "import numpy as np\n",
    "\n"
   ]
  },
  {
   "cell_type": "markdown",
   "metadata": {},
   "source": [
    "# Exploring the Data\n",
    "\n",
    "## First we answer basic questions about our data"
   ]
  },
  {
   "cell_type": "markdown",
   "metadata": {},
   "source": [
    "#### Question: What is the data?"
   ]
  },
  {
   "cell_type": "code",
   "execution_count": 3,
   "metadata": {
    "collapsed": false
   },
   "outputs": [
    {
     "name": "stdout",
     "output_type": "stream",
     "text": [
      "Data types:\n",
      "cx          int64\n",
      "cy          int64\n",
      "cz          int64\n",
      "unmasked    int64\n",
      "synapses    int64\n",
      "dtype: object\n"
     ]
    }
   ],
   "source": [
    "# Read in data\n",
    "df = pd.read_csv('../output.csv')\n",
    "print \"Data types:\"\n",
    "print df.dtypes"
   ]
  },
  {
   "cell_type": "markdown",
   "metadata": {},
   "source": [
    "#### Conclusion: \n",
    "\"cx\", \"cy\", and \"cz\" denote the unique location of a \"bin\", which corresponds to an arbitrary volume of cortical tissue. \"synapses\" is an integer count of the number of synapses found within the voxel. \n",
    "\n",
    "\"unmasked\" informs how much of the bin (denoted by cx, cy, and cz) was deemed suitable for finding a synapse. Each bin was comprised of many individual voxels of the EM image. A synapse could technically be found at any given voxel. However, a subset of these voxels were pre-determined (not by us) to contain material that are not synapses (i.e. cell bodies). These voxels were \"masked\". Thus the \"unmasked\" voxels comprise the proportional area of each bin in which a synapse may reside. "
   ]
  },
  {
   "cell_type": "markdown",
   "metadata": {},
   "source": [
    "#### Question: How many Nan, Inf, or other \"bad\" data values are there?"
   ]
  },
  {
   "cell_type": "code",
   "execution_count": 5,
   "metadata": {
    "collapsed": false
   },
   "outputs": [
    {
     "name": "stdout",
     "output_type": "stream",
     "text": [
      "Number of nan values by column:\n",
      "cx          0\n",
      "cy          0\n",
      "cz          0\n",
      "unmasked    0\n",
      "synapses    0\n",
      "dtype: int64 \n",
      "\n",
      "Number of rows with nan values: 0 \n",
      "\n",
      "Number of inf values by column:\n",
      "cx          0\n",
      "cy          0\n",
      "cz          0\n",
      "unmasked    0\n",
      "synapses    0\n",
      "dtype: int64 \n",
      "\n",
      "Number of rows with inf values: 0 \n",
      "\n",
      "Number of negative values by column:\n",
      "cx          0\n",
      "cy          0\n",
      "cz          0\n",
      "unmasked    0\n",
      "synapses    0\n",
      "dtype: int64 \n",
      "\n",
      "Number of rows with negative values: 0 \n",
      "\n"
     ]
    }
   ],
   "source": [
    "isNan = df.isnull()\n",
    "isInf = np.isinf(df)\n",
    "isNeg = df < 0\n",
    "\n",
    "print \"Number of nan values by column:\"\n",
    "print isNan.sum(), \"\\n\"\n",
    "print \"Number of rows with nan values:\", isNan.sum(1).sum(), \"\\n\"\n",
    "\n",
    "print \"Number of inf values by column:\"\n",
    "print isInf.sum(), \"\\n\"\n",
    "print \"Number of rows with inf values:\", isInf.sum(1).sum(), \"\\n\"\n",
    "\n",
    "print \"Number of negative values by column:\"\n",
    "print isNeg.sum(), \"\\n\"\n",
    "print \"Number of rows with negative values:\", isNeg.sum(1).sum(), \"\\n\""
   ]
  },
  {
   "cell_type": "markdown",
   "metadata": {},
   "source": [
    "#### Conclusion:\n",
    "There is no \"bad\" data in our data set"
   ]
  },
  {
   "cell_type": "markdown",
   "metadata": {},
   "source": [
    "#### Question: What is the \"size\" of our data set?\n",
    "   * how many synapses are there?\n",
    "   * how many bins are there?"
   ]
  },
  {
   "cell_type": "code",
   "execution_count": 6,
   "metadata": {
    "collapsed": false
   },
   "outputs": [
    {
     "name": "stdout",
     "output_type": "stream",
     "text": [
      "There are 7704178 total synapses in the data.\n"
     ]
    }
   ],
   "source": [
    "nSyn = df['synapses'].sum()\n",
    "print \"There are\", nSyn, \"total synapses in the data.\""
   ]
  },
  {
   "cell_type": "code",
   "execution_count": 7,
   "metadata": {
    "collapsed": false
   },
   "outputs": [
    {
     "name": "stdout",
     "output_type": "stream",
     "text": [
      "There are 61776 total 3D bins.\n"
     ]
    }
   ],
   "source": [
    "nBins = df['synapses'].count()\n",
    "print \"There are\", nBins, \"total 3D bins.\""
   ]
  },
  {
   "cell_type": "code",
   "execution_count": null,
   "metadata": {
    "collapsed": true
   },
   "outputs": [],
   "source": []
  }
 ],
 "metadata": {
  "kernelspec": {
   "display_name": "Python 2",
   "language": "python",
   "name": "python2"
  },
  "language_info": {
   "codemirror_mode": {
    "name": "ipython",
    "version": 2
   },
   "file_extension": ".py",
   "mimetype": "text/x-python",
   "name": "python",
   "nbconvert_exporter": "python",
   "pygments_lexer": "ipython2",
   "version": "2.7.11"
  }
 },
 "nbformat": 4,
 "nbformat_minor": 0
}
