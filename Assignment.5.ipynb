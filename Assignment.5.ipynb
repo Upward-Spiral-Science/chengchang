{
 "cells": [
  {
   "cell_type": "markdown",
   "metadata": {},
   "source": [
    "# Assignment 5: Classification"
   ]
  },
  {
   "cell_type": "markdown",
   "metadata": {},
   "source": [
    "## Step 1. Assumptions"
   ]
  },
  {
   "cell_type": "markdown",
   "metadata": {},
   "source": [
    "* Divide the data by z-layer into 11 slices.  \n",
    "* Assume the mean density of synapses in a slice can be classified into 2 groups: $W_i$.  \n",
    "* $W_i = \\{\\text{High density},\\text{  Low density}\\}$  \n",
    "\n"
   ]
  },
  {
   "cell_type": "markdown",
   "metadata": {},
   "source": [
    "\n",
    "## Step 2. Define classification problem"
   ]
  },
  {
   "cell_type": "markdown",
   "metadata": {},
   "source": [
    "* We then randomly choose a small grid, and use the $X$ and $Y$ position to predict this grid belongs to high or low density.  \n",
    "  \n",
    "* $N$ is the number of synapses (observations)\n",
    "* $X_i = X\\text{ position} $  \n",
    "* $Y_i = Y\\text{ position} $  \n",
    "* $H_0 = N \\perp\\!\\!\\!\\perp X, Y$ positions\n",
    "* $H_1 = N \\text{ is not} \\perp\\!\\!\\!\\perp X, Y$ positions  \n",
    "\n",
    "\n",
    "* Becuase we will do the classification, the objective is to minimize the expected error:  \n",
    "* $E[l] = \\sum_{n=1}^{\\infty}I(\\hat{W_i} \\neq W_i)$ where $I$ is the indicator function.\n"
   ]
  },
  {
   "cell_type": "markdown",
   "metadata": {},
   "source": [
    "## Step 3. Provide algorithms"
   ]
  },
  {
   "cell_type": "markdown",
   "metadata": {},
   "source": [
    "Classification methods:\n",
    "\n",
    "* lda (Linear Discriminant Analysis): No parameter.\n",
    "* qda (Quadratic Discriminant Analysis): No parameter.\n",
    "* svm (Support Vector Machine): Penalty parameters set to 0.5, the default value.\n",
    "* knn (K-Nearest Neighbours): Number of neighbors set to 3, the default value.\n",
    "* rf (Random Forest): Use default value."
   ]
  },
  {
   "cell_type": "markdown",
   "metadata": {},
   "source": [
    "## Step 4. Sample data from null and alternative model"
   ]
  },
  {
   "cell_type": "code",
   "execution_count": null,
   "metadata": {
    "collapsed": true
   },
   "outputs": [],
   "source": []
  },
  {
   "cell_type": "markdown",
   "metadata": {},
   "source": [
    "## Step 5. Compute accuracy"
   ]
  },
  {
   "cell_type": "code",
   "execution_count": null,
   "metadata": {
    "collapsed": true
   },
   "outputs": [],
   "source": []
  },
  {
   "cell_type": "markdown",
   "metadata": {},
   "source": [
    "## Step 6. Apply on data"
   ]
  },
  {
   "cell_type": "code",
   "execution_count": null,
   "metadata": {
    "collapsed": true
   },
   "outputs": [],
   "source": []
  },
  {
   "cell_type": "markdown",
   "metadata": {},
   "source": [
    "## Step 7. Interpret"
   ]
  },
  {
   "cell_type": "code",
   "execution_count": null,
   "metadata": {
    "collapsed": true
   },
   "outputs": [],
   "source": []
  }
 ],
 "metadata": {
  "kernelspec": {
   "display_name": "Python 2",
   "language": "python",
   "name": "python2"
  },
  "language_info": {
   "codemirror_mode": {
    "name": "ipython",
    "version": 2
   },
   "file_extension": ".py",
   "mimetype": "text/x-python",
   "name": "python",
   "nbconvert_exporter": "python",
   "pygments_lexer": "ipython2",
   "version": "2.7.11"
  }
 },
 "nbformat": 4,
 "nbformat_minor": 0
}
